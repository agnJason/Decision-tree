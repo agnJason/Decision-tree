{
 "cells": [
  {
   "cell_type": "code",
   "execution_count": 148,
   "metadata": {
    "ExecuteTime": {
     "end_time": "2019-05-17T02:33:57.965679Z",
     "start_time": "2019-05-17T02:33:56.978311Z"
    }
   },
   "outputs": [],
   "source": [
    "import numpy as np\n",
    "import pandas as pd\n",
    "import warnings\n",
    "warnings.filterwarnings(\"ignore\")\n",
    "\n",
    "\n",
    "class decisionNode(object):\n",
    "    '''建立决策树结点类'''\n",
    "\n",
    "    def __init__(self,\n",
    "                 col=-1,\n",
    "                 value=None,\n",
    "                 results=None,\n",
    "                 tb=None,\n",
    "                 fb=None,\n",
    "                 samples=None):\n",
    "        '''col:待检验的列索引值;value:为了使结果为true,当前列必须匹配的值\n",
    "        tb,fb:下一层结点,result:dict,叶结点处,该分支的结果,其它结点处为None'''\n",
    "        self.col = col\n",
    "        self.value = value\n",
    "        self.results = results\n",
    "        self.tb = tb\n",
    "        self.fb = fb\n",
    "        self.samples = samples\n",
    "\n",
    "\n",
    "class xgboost:\n",
    "    def __init__(self, max_depth=8, n_estimators=30, lamda=0.1,\n",
    "                 yita=0.0001):\n",
    "        '''\n",
    "        max_depth 最大深度\n",
    "        n_estimators 树数量\n",
    "        lamda 正则项系数\n",
    "        yita 惩罚系数\n",
    "        '''\n",
    "        self.max_depth = max_depth\n",
    "        self.n_estimators = n_estimators\n",
    "        #self.learning_rate = learning_rate\n",
    "        self.lamda = lamda\n",
    "        self.yita = yita\n",
    "        self.trees = []\n",
    "        self.label = []\n",
    "\n",
    "    def log_reg(self, y_pre, y_true):\n",
    "        p = 1.0 / (1.0 + np.exp(-y_pre))\n",
    "        g = p - y_true\n",
    "        h = p * (1 - p)\n",
    "        return g, h\n",
    "\n",
    "    def choosebest(self, x, y):\n",
    "        m = len(x)\n",
    "        bestfeature = -1\n",
    "        bestpoint = -1.0\n",
    "        numFeatures = len(x[0])\n",
    "        bestInfoGain = 0.0\n",
    "        for i in range(numFeatures):\n",
    "            curfeature = []\n",
    "            for j in range(m):\n",
    "                curfeature.append(x[j][i])\n",
    "            curfeature.sort()\n",
    "            gain = 0.0\n",
    "            point_id = (curfeature[-1] - curfeature[0]) / 10\n",
    "            for j in range(11):\n",
    "                point = curfeature[0] + point_id * j\n",
    "                Set = [[k for k in range(m) if x[k][i] < point],\n",
    "                       [k for k in range(m) if x[k][i] >= point]]\n",
    "                GL, HL, GR, HR = 0, 0, 0, 0\n",
    "                y_preL = np.mean([y[q] for q in Set[0]])\n",
    "                y_preR = np.mean([y[q] for q in Set[1]])\n",
    "                for k in Set[0]:\n",
    "                    g, h = self.log_reg(y_preL, y[k])\n",
    "                    GL += g\n",
    "                    HL += h\n",
    "                for k in Set[1]:\n",
    "                    g, h = self.log_reg(y_preR, y[k])\n",
    "                    GR += g\n",
    "                    HR += h\n",
    "                gain = GL * GL / (HL + self.lamda) + GR * GR / (\n",
    "                    HR + self.lamda) - (GL + GR)**2 / (\n",
    "                        HL + HR + self.lamda) - 2 * self.yita\n",
    "                if gain > bestInfoGain:\n",
    "                    bestInfoGain = gain\n",
    "                    bestfeature = i\n",
    "                    bestpoint = point\n",
    "        return bestfeature, bestpoint, bestInfoGain\n",
    "\n",
    "    #构建决策树\n",
    "    def buildDTree(self, x, y, depth):\n",
    "        max_depth = self.max_depth\n",
    "        if depth >= max_depth:\n",
    "            return decisionNode(results=self.result_list(\n",
    "                x, y))  #当树深度>=max_depth时，停止分叉，并返回该结点的类别\n",
    "\n",
    "        #定义一些变量以记录最佳拆分条件\n",
    "        best_gain = 0\n",
    "        bestFeat = None  #最佳拆分点:特征\n",
    "        bestpoint = None  #最佳拆分点:特征取值\n",
    "\n",
    "        #labels = range(len(x[0]))\n",
    "        bestFeat, bestpoint, best_gain = self.choosebest(x, y)\n",
    "        #切分左子树和右子树\n",
    "        best_set_tx, best_set_ty, best_set_fx, best_set_fy = [], [], [], []\n",
    "        for n in range(len(x)):\n",
    "            if x[n][bestFeat] >= bestpoint:\n",
    "                best_set_tx.append(x[n])\n",
    "                best_set_ty.append(y[n])\n",
    "            else:\n",
    "                best_set_fx.append(x[n])\n",
    "                best_set_fy.append(y[n])\n",
    "        #创建分支：\n",
    "        if best_gain > 0:\n",
    "            TrueBranch = self.buildDTree(best_set_tx, best_set_ty, depth + 1)\n",
    "            FalseBranch = self.buildDTree(best_set_fx, best_set_fy, depth + 1)\n",
    "            return decisionNode(col=bestFeat,\n",
    "                                value=bestpoint,\n",
    "                                tb=TrueBranch,\n",
    "                                fb=FalseBranch,\n",
    "                                results=self.result_list(x, y))\n",
    "        else:\n",
    "            return decisionNode(results=y)\n",
    "\n",
    "    def result_list(self, x, y):\n",
    "        '''\n",
    "        rows：输入样本集合;\n",
    "        返回值dict\n",
    "        '''\n",
    "        results = []\n",
    "        #print(rows)\n",
    "        for i in range(len(x)):\n",
    "            rs = y[i]\n",
    "            results.append(rs)\n",
    "        return results\n",
    "\n",
    "    def tree_predict(self, tree, x):\n",
    "        while tree.fb != None:\n",
    "            if x[tree.col] < tree.value:\n",
    "                tree = tree.fb\n",
    "            else:\n",
    "                tree = tree.tb\n",
    "        #统计叶子结点的多数类别\n",
    "        predict = np.mean(tree.results)\n",
    "        return predict\n",
    "\n",
    "    def fit(self, x, y):\n",
    "        if type(x) == type(pd.DataFrame()) or type(x) == type(pd.Series()):\n",
    "            x = x.values.tolist()\n",
    "        if type(y) == type(pd.DataFrame()) or type(y) == type(pd.Series()):\n",
    "            y = y.values.tolist()\n",
    "        self.label = list(set(y))\n",
    "        y_i = y\n",
    "        for n in range(self.n_estimators):\n",
    "            dt = self.buildDTree(x, y_i, 1)\n",
    "            y_i = [y_i[i] - self.tree_predict(dt, x[i]) for i in range(len(x))]\n",
    "            self.trees.append(dt)\n",
    "            if set(y_i) == {0}:\n",
    "                break\n",
    "\n",
    "    def predict_sample(self, x):\n",
    "        predict = 0\n",
    "        for tree in self.trees:\n",
    "            predict += self.tree_predict(tree, x)\n",
    "        dis = 10000\n",
    "        for label in self.label:\n",
    "            if abs(label - predict) < dis:\n",
    "                y_pred = label\n",
    "                dis = abs(label - predict)\n",
    "        return y_pred\n",
    "\n",
    "    def predict(self, x):\n",
    "        if type(x) == type(pd.DataFrame()) or type(x) == type(pd.Series()):\n",
    "            x = x.values.tolist()\n",
    "        y_pred = [self.predict_sample(sample) for sample in x]\n",
    "        return y_pred"
   ]
  },
  {
   "cell_type": "code",
   "execution_count": 149,
   "metadata": {
    "ExecuteTime": {
     "end_time": "2019-05-17T02:33:58.120678Z",
     "start_time": "2019-05-17T02:33:58.032691Z"
    }
   },
   "outputs": [
    {
     "data": {
      "text/plain": [
       "[1, 2, 3]"
      ]
     },
     "execution_count": 149,
     "metadata": {},
     "output_type": "execute_result"
    }
   ],
   "source": [
    "x = [[1, 2, 3], [4, 5, 6], [7, 8, 9]]\n",
    "y = [1, 2, 3]\n",
    "xgb = xgboost()\n",
    "xgb.fit(x, y)\n",
    "xgb.predict(x)"
   ]
  },
  {
   "cell_type": "code",
   "execution_count": 150,
   "metadata": {
    "ExecuteTime": {
     "end_time": "2019-05-17T02:33:59.894808Z",
     "start_time": "2019-05-17T02:33:58.836686Z"
    }
   },
   "outputs": [],
   "source": [
    "data = pd.read_csv(r'D:\\python data\\kaggle-titanic-master\\input\\clean.csv')\n",
    "from sklearn.cross_validation import train_test_split\n",
    "x_train, x_test, y_train, y_test = train_test_split(data.iloc[:, :-1],\n",
    "                                                    data.iloc[:, -1],\n",
    "                                                    test_size=0.2)"
   ]
  },
  {
   "cell_type": "code",
   "execution_count": 155,
   "metadata": {
    "ExecuteTime": {
     "end_time": "2019-05-17T02:40:31.312610Z",
     "start_time": "2019-05-17T02:39:10.118512Z"
    },
    "scrolled": true
   },
   "outputs": [
    {
     "name": "stdout",
     "output_type": "stream",
     "text": [
      "train accuracy: 0.9043600562587905\n"
     ]
    }
   ],
   "source": [
    "xgb = xgboost(max_depth=10, n_estimators=100)\n",
    "xgb.fit(x_train, y_train)\n",
    "y_pred = xgb.predict(x_train)\n",
    "accuracy = len([n for n in range(len(y_pred)) if y_pred[n] == y_train.iloc[n]]) / len(y_pred)\n",
    "print('train accuracy:', accuracy)"
   ]
  },
  {
   "cell_type": "code",
   "execution_count": 156,
   "metadata": {
    "ExecuteTime": {
     "end_time": "2019-05-17T02:41:35.989853Z",
     "start_time": "2019-05-17T02:41:33.103031Z"
    },
    "scrolled": true
   },
   "outputs": [
    {
     "name": "stdout",
     "output_type": "stream",
     "text": [
      "test accuracy: 0.8089887640449438\n"
     ]
    }
   ],
   "source": [
    "y_pred = xgb.predict(x_test)\n",
    "accuracy = len([n for n in range(len(y_pred)) if y_pred[n]==y_test.iloc[n]])/len(y_pred)\n",
    "print('test accuracy:',accuracy)"
   ]
  },
  {
   "cell_type": "code",
   "execution_count": 153,
   "metadata": {
    "ExecuteTime": {
     "end_time": "2019-05-17T02:35:34.007353Z",
     "start_time": "2019-05-17T02:35:33.853740Z"
    }
   },
   "outputs": [
    {
     "data": {
      "text/plain": [
       "0.797752808988764"
      ]
     },
     "execution_count": 153,
     "metadata": {},
     "output_type": "execute_result"
    }
   ],
   "source": [
    "import xgboost as xgb\n",
    "model = xgb.XGBClassifier(n_estimators=100)\n",
    "model.fit(x_train,y_train)\n",
    "y_pred = model.predict(x_test)\n",
    "accuracy = len([n for n in range(len(y_pred)) if y_pred[n]==y_test.iloc[n]])/len(y_pred)\n",
    "accuracy"
   ]
  },
  {
   "cell_type": "code",
   "execution_count": null,
   "metadata": {},
   "outputs": [],
   "source": []
  }
 ],
 "metadata": {
  "kernelspec": {
   "display_name": "Python 3",
   "language": "python",
   "name": "python3"
  },
  "language_info": {
   "codemirror_mode": {
    "name": "ipython",
    "version": 3
   },
   "file_extension": ".py",
   "mimetype": "text/x-python",
   "name": "python",
   "nbconvert_exporter": "python",
   "pygments_lexer": "ipython3",
   "version": "3.6.4"
  },
  "varInspector": {
   "cols": {
    "lenName": 16,
    "lenType": 16,
    "lenVar": 40
   },
   "kernels_config": {
    "python": {
     "delete_cmd_postfix": "",
     "delete_cmd_prefix": "del ",
     "library": "var_list.py",
     "varRefreshCmd": "print(var_dic_list())"
    },
    "r": {
     "delete_cmd_postfix": ") ",
     "delete_cmd_prefix": "rm(",
     "library": "var_list.r",
     "varRefreshCmd": "cat(var_dic_list()) "
    }
   },
   "oldHeight": 123,
   "position": {
    "height": "40px",
    "left": "1098px",
    "right": "20px",
    "top": "120px",
    "width": "250px"
   },
   "types_to_exclude": [
    "module",
    "function",
    "builtin_function_or_method",
    "instance",
    "_Feature"
   ],
   "varInspector_section_display": "none",
   "window_display": true
  }
 },
 "nbformat": 4,
 "nbformat_minor": 2
}
