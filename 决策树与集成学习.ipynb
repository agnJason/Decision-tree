{
 "cells": [
  {
   "cell_type": "code",
   "execution_count": 1,
   "metadata": {
    "ExecuteTime": {
     "end_time": "2019-05-12T13:35:57.967991Z",
     "start_time": "2019-05-12T13:35:54.619717Z"
    },
    "code_folding": []
   },
   "outputs": [],
   "source": [
    "from math import log\n",
    "import pandas as pd\n",
    "import numpy as np\n",
    "class decisionNode(object):\n",
    "    '''建立决策树结点类'''\n",
    "    def __init__(self,col=-1,value=None,results=None,tb=None,fb=None,samples=None):\n",
    "        '''col:待检验的列索引值;value:为了使结果为true,当前列必须匹配的值\n",
    "        tb,fb:下一层结点,result:dict,叶结点处,该分支的结果,其它结点处为None'''\n",
    "        self.col=col\n",
    "        self.value=value\n",
    "        self.results=results\n",
    "        self.tb=tb\n",
    "        self.fb=fb\n",
    "        self.samples=samples\n",
    "\n",
    "class DecitionTree():\n",
    "    def __init__(self, max_depth = 10, model = 'ID3'):\n",
    "        self.max_depth = max_depth\n",
    "        self.model = model\n",
    "        self.tree = decisionNode()\n",
    "    #计算信息熵\n",
    "    def calcShannonEnt(self,x,y):\n",
    "        numsamples = len(x)\n",
    "        labelCounts = {}\n",
    "        for n in range(numsamples):\n",
    "            currentLabel = y[n][0]\n",
    "            if currentLabel not in labelCounts:\n",
    "                labelCounts[currentLabel] = 0\n",
    "            labelCounts[currentLabel] += 1\n",
    "        shannonEnt = 0.0\n",
    "        for key in labelCounts:\n",
    "            prob = float(labelCounts[key])/numsamples\n",
    "            shannonEnt -= prob * log(prob, 2)\n",
    "        return shannonEnt\n",
    "    #计算基尼系数    \n",
    "    def calcGiniEnt(self,x,y):\n",
    "        numsamples = len(x)\n",
    "        labelCounts = {}\n",
    "        for n in range(numsamples):\n",
    "            currentLabel = y[n][0]\n",
    "            if currentLabel not in labelCounts:\n",
    "                labelCounts[currentLabel] = 0\n",
    "            labelCounts[currentLabel] += 1\n",
    "        GiniEnt = 0.0\n",
    "        for key in labelCounts:\n",
    "            prob = float(labelCounts[key])/numsamples\n",
    "            GiniEnt -= prob **2\n",
    "        return GiniEnt\n",
    "    #连续值 C3\n",
    "    def choosebest(self,x,y):\n",
    "        m = len(x)\n",
    "\n",
    "        if self.model == 'ID3' or self.model == 'C4.5':\n",
    "            calc = self.calcShannonEnt\n",
    "        elif self.model == 'CART':\n",
    "            calc = self.calcGiniEnt\n",
    "        \n",
    "        bestfeature = -1\n",
    "        bestpoint = -1.0\n",
    "        numFeatures = len(x[0])\n",
    "        baseEntropy = calc(x,y)\n",
    "        bestInfoGain = 0.0 \n",
    "        for i in range(numFeatures):\n",
    "            curfeature = []\n",
    "            for j in range(m):\n",
    "                curfeature.append(x[j][i])\n",
    "            #print(curfeature)\n",
    "            curfeature.sort()\n",
    "            gain = 0.0\n",
    "            point_id = (curfeature[-1]-curfeature[0])/10\n",
    "            #两点中间取分割点\n",
    "            for j in range(11):\n",
    "                point = curfeature[0]+point_id*j\n",
    "                Set = [[k for k in range(m) if x[k][i] < point],[k for k in range(m) if x[k][i] >= point]]\n",
    "                p1 = float(len(Set[0])) / m\n",
    "                p2 = float(len(Set[1])) / m\n",
    "                split = 1\n",
    "                if self.model == 'C4.5':\n",
    "                    split = 0\n",
    "                    if p1 != 0:\n",
    "                        split -= p1 * log(p1,2)\n",
    "                    if p2 != 0:\n",
    "                        split -= p2 * log(p2,2)\n",
    "                    if split == 0:\n",
    "                        continue\n",
    "                gain = (baseEntropy - p1 * calc([[x[n][i]] for n in Set[0]],[y[n] for n in Set[0]]) - p2 * calc([[x[n][i]] for n in Set[1]],[y[n] for n in Set[1]]))/split\n",
    "                if gain > bestInfoGain:\n",
    "                    bestInfoGain = gain\n",
    "                    bestfeature = i\n",
    "                    bestpoint = point\n",
    "        return bestfeature,bestpoint,bestInfoGain\n",
    "    #构建决策树\n",
    "    def buildDTree(self,x,y,depth):\n",
    "        max_depth = self.max_depth\n",
    "        if depth>=max_depth:\n",
    "            return decisionNode(results=self.uniquecounts(x,y)) #当树深度>=max_depth时，停止分叉，并返回该结点的类别\n",
    "        \n",
    "        #定义一些变量以记录最佳拆分条件\n",
    "        best_gain=0\n",
    "        bestFeat=None      #最佳拆分点:特征\n",
    "        bestpoint=None          #最佳拆分点:特征取值\n",
    "        \n",
    "        labels = range(len(x[0]))\n",
    "        bestFeat, bestpoint, best_gain = self.choosebest(x,y)\n",
    "        #切分左子树和右子树\n",
    "        best_set_tx = [x[n] for n in range(len(x)) if x[n][bestFeat] >=bestpoint]\n",
    "        best_set_ty = [y[n] for n in range(len(x)) if x[n][bestFeat] >=bestpoint]\n",
    "        \n",
    "        best_set_fx = [x[n] for n in range(len(x)) if x[n][bestFeat] <bestpoint]\n",
    "        best_set_fy = [y[n] for n in range(len(x)) if x[n][bestFeat] <bestpoint]\n",
    "        #创建分支：\n",
    "        if best_gain>0:\n",
    "            TrueBranch=self.buildDTree(best_set_tx,best_set_ty,depth+1)\n",
    "            FalseBranch=self.buildDTree(best_set_fx,best_set_fy,depth+1)\n",
    "            return decisionNode(col=bestFeat,value=bestpoint,tb=TrueBranch,fb=FalseBranch)\n",
    "        else:\n",
    "            return decisionNode(results=self.uniquecounts(x,y))\n",
    "        \n",
    "    def uniquecounts(self,x,y):\n",
    "        '''rows：输入样本集合;\n",
    "        返回值dict\n",
    "        '''\n",
    "        results={}\n",
    "        #print(rows)\n",
    "        for i in range(len(x)):\n",
    "            rs=y[i][0]\n",
    "            #print(rs)\n",
    "            if not rs in results.keys():\n",
    "                results[rs]=0\n",
    "            results[rs]+=1\n",
    "        return results\n",
    "    \n",
    "    def fit(self,x,y):\n",
    "        if type(x)==type(pd.DataFrame()) or type(x)==type(pd.Series()):\n",
    "            x = x.values.tolist()\n",
    "        if type(y)==type(pd.DataFrame()) or type(y)==type(pd.Series()) :\n",
    "            y = [[n] for n in y.values]\n",
    "\n",
    "        self.tree = self.buildDTree(x,y,1)\n",
    "        \n",
    "    def predict_sample(self,x):\n",
    "        tree_1 = self.tree\n",
    "        while tree_1.fb != None:\n",
    "            if x[tree_1.col] < tree_1.value:\n",
    "                tree_1 = tree_1.fb\n",
    "            else:\n",
    "                tree_1 = tree_1.tb\n",
    "        #统计叶子结点的多数类别\n",
    "        predict = sorted(tree_1.results.items(),key=lambda x:x[1])[-1][0]\n",
    "        return predict\n",
    "    \n",
    "    def predict(self,x):\n",
    "        if type(x)==type(pd.DataFrame()) or type(x)==type(pd.Series()):\n",
    "            x = x.values.tolist()\n",
    "        \n",
    "        y_pre = [[self.predict_sample(n)] for n in x]\n",
    "        return y_pre    \n",
    "    "
   ]
  },
  {
   "cell_type": "code",
   "execution_count": 2,
   "metadata": {
    "ExecuteTime": {
     "end_time": "2019-05-12T13:35:58.652891Z",
     "start_time": "2019-05-12T13:35:58.581085Z"
    }
   },
   "outputs": [],
   "source": [
    "import pandas as pd\n",
    "import numpy as np\n",
    "data = pd.read_csv(r'D:\\python data\\kaggle-titanic-master\\input\\clean.csv')"
   ]
  },
  {
   "cell_type": "code",
   "execution_count": 15,
   "metadata": {
    "ExecuteTime": {
     "end_time": "2019-05-12T13:38:46.265250Z",
     "start_time": "2019-05-12T13:38:46.252998Z"
    },
    "scrolled": true
   },
   "outputs": [],
   "source": [
    "from sklearn.cross_validation import train_test_split\n",
    "x_train, x_test, y_train, y_test = train_test_split(data.iloc[:, :-1],data.iloc[:, -1],test_size = 0.2)"
   ]
  },
  {
   "cell_type": "code",
   "execution_count": 16,
   "metadata": {
    "ExecuteTime": {
     "end_time": "2019-05-12T13:38:47.263899Z",
     "start_time": "2019-05-12T13:38:46.635461Z"
    }
   },
   "outputs": [
    {
     "name": "stdout",
     "output_type": "stream",
     "text": [
      "train accuracy: 0.9240506329113924\n"
     ]
    }
   ],
   "source": [
    "dt = DecitionTree(model='CART')\n",
    "dt.fit(x_train,y_train)\n",
    "y_pred = dt.predict(x_train)\n",
    "accuracy = len([n for n in range(len(y_pred)) if y_pred[n][0]==y_train.iloc[n]])/len(y_pred)\n",
    "print('train accuracy:', accuracy)"
   ]
  },
  {
   "cell_type": "code",
   "execution_count": 17,
   "metadata": {
    "ExecuteTime": {
     "end_time": "2019-05-12T13:38:48.634210Z",
     "start_time": "2019-05-12T13:38:48.618199Z"
    }
   },
   "outputs": [
    {
     "name": "stdout",
     "output_type": "stream",
     "text": [
      "test accuracy: 0.7191011235955056\n"
     ]
    }
   ],
   "source": [
    "y_pred = dt.predict(x_test)\n",
    "accuracy = len([n for n in range(len(y_pred)) if y_pred[n][0]==y_test.iloc[n]])/len(y_pred)\n",
    "print('test accuracy:',accuracy)"
   ]
  },
  {
   "cell_type": "markdown",
   "metadata": {},
   "source": [
    "#随机森林"
   ]
  },
  {
   "cell_type": "code",
   "execution_count": 6,
   "metadata": {
    "ExecuteTime": {
     "end_time": "2019-05-12T13:36:10.736753Z",
     "start_time": "2019-05-12T13:36:10.324837Z"
    }
   },
   "outputs": [],
   "source": [
    "import random\n",
    "class RandomForest:\n",
    "    def __init__(self,ntrees = 100,max_depth=10, model='CART'):\n",
    "        '''\n",
    "        ntrees为构建决策树棵树\n",
    "        max_depth为一棵树最大深度\n",
    "        model所用模型\n",
    "        '''\n",
    "        self.trees = []\n",
    "        self.ntrees = ntrees\n",
    "        self.max_depth = max_depth\n",
    "        self.model = model\n",
    "        self.weight = {}\n",
    "        \n",
    "    def fit(self,x,y):\n",
    "        #对x,y是pandas格式的进行转换\n",
    "        if type(x)==type(pd.DataFrame()) or type(x)==type(pd.Series()):\n",
    "            x = x.values.tolist()\n",
    "        if type(y)==type(pd.DataFrame()) or type(y)==type(pd.Series()) :\n",
    "            y = [[n] for n in y.values]\n",
    "\n",
    "        for n in range(self.ntrees):\n",
    "            dt = DecitionTree(self.max_depth,self.model)\n",
    "            sx, sy = self.random_xy(x,y)\n",
    "            dt.fit(sx, sy)\n",
    "            self.trees.append(dt)\n",
    "            del dt\n",
    "        for n in y:\n",
    "            if n[0] not in self.weight.keys():\n",
    "                self.weight[n[0]]=0\n",
    "            self.weight[n[0]]+=1\n",
    "        \n",
    "    def random_xy(self,x,y):\n",
    "        '''\n",
    "        切分x,y。形成随机特征的随机数量样本\n",
    "        '''\n",
    "        i_list = sorted(random.sample(range(len(x)),random.choice(range(int(len(x)/1.2),len(x)))))\n",
    "        j_list = sorted(random.sample(range(len(x[0])),random.choice(range(int(len(x[0])/1.1),len(x[0])))))\n",
    "        return [[x[i][j] for j in j_list] for i in i_list],[y[i] for i in i_list]\n",
    "        \n",
    "    def predict_sample(self,x):\n",
    "        '''\n",
    "        x为一个样本\n",
    "        '''\n",
    "        pred_dict = {}\n",
    "        for tree in self.trees:\n",
    "            pred = tree.predict([x])[0][0]\n",
    "            if pred not in pred_dict.keys():\n",
    "                pred_dict[pred] = 0\n",
    "            pred_dict[pred] +=1\n",
    "        \n",
    "        for label in pred_dict.keys():\n",
    "            pred_dict[label] = pred_dict[label]/self.weight[label]\n",
    "        \n",
    "        predict = sorted(pred_dict.items(),key=lambda x:x[1])[-1][0]\n",
    "        return predict\n",
    "        \n",
    "    def predict(self,x):\n",
    "        if type(x)==type(pd.DataFrame()) or type(x)==type(pd.Series()):\n",
    "            x = x.values.tolist()\n",
    "        y_pre = [[self.predict_sample(n)] for n in x]\n",
    "        return y_pre  \n",
    "    \n",
    "    def predict_sample_proba(self,x):\n",
    "        '''\n",
    "        x为一个样本\n",
    "        计算概率\n",
    "        '''\n",
    "        pred_dict = {}\n",
    "        for tree in self.trees:\n",
    "            pred = tree.predict([x])[0][0]\n",
    "            if pred not in pred_dict.keys():\n",
    "                pred_dict[pred] = 0\n",
    "            pred_dict[pred] +=1\n",
    "        \n",
    "        for label in pred_dict.keys():\n",
    "            pred_dict[label] = pred_dict[label]/self.weight[label]\n",
    "        try:\n",
    "            predict_proba = pred_dict[1]/sum(pred_dict.values())\n",
    "        except:\n",
    "            predict_proba = 0\n",
    "        return [1-predict_proba,predict_proba]\n",
    "    \n",
    "    def predict_proba(self,x):\n",
    "        if type(x)==type(pd.DataFrame()) or type(x)==type(pd.Series()):\n",
    "            x = x.values.tolist()\n",
    "        y_pre = [self.predict_sample_proba(n) for n in x]\n",
    "        return y_pre"
   ]
  },
  {
   "cell_type": "code",
   "execution_count": 18,
   "metadata": {
    "ExecuteTime": {
     "end_time": "2019-05-12T13:40:33.363542Z",
     "start_time": "2019-05-12T13:38:56.546735Z"
    },
    "scrolled": true
   },
   "outputs": [
    {
     "name": "stdout",
     "output_type": "stream",
     "text": [
      "train accuracy: 0.8255977496483825\n"
     ]
    }
   ],
   "source": [
    "from sklearn.cross_validation import train_test_split\n",
    "x_train, x_test, y_train, y_test = train_test_split(data.iloc[:, :-1],data.iloc[:, -1],test_size = 0.2)\n",
    "rf = RandomForest(model='CART')\n",
    "rf.fit(x_train,y_train)\n",
    "y_pred = rf.predict(x_train)\n",
    "accuracy = len([n for n in range(len(y_pred)) if y_pred[n][0]==y_train.iloc[n]])/len(y_pred)\n",
    "print('train accuracy:', accuracy)"
   ]
  },
  {
   "cell_type": "code",
   "execution_count": 19,
   "metadata": {
    "ExecuteTime": {
     "end_time": "2019-05-12T13:40:44.762278Z",
     "start_time": "2019-05-12T13:40:33.529565Z"
    }
   },
   "outputs": [
    {
     "name": "stdout",
     "output_type": "stream",
     "text": [
      "test accuracy: 0.7359550561797753\n"
     ]
    }
   ],
   "source": [
    "y_pred = rf.predict(x_test)\n",
    "accuracy = len([n for n in range(len(y_pred)) if y_pred[n][0]==y_test.iloc[n]])/len(y_pred)\n",
    "print('test accuracy:',accuracy)"
   ]
  },
  {
   "cell_type": "code",
   "execution_count": 175,
   "metadata": {
    "ExecuteTime": {
     "end_time": "2019-05-11T07:24:45.330294Z",
     "start_time": "2019-05-11T07:24:32.359440Z"
    },
    "collapsed": true
   },
   "outputs": [
    {
     "name": "stdout",
     "output_type": "stream",
     "text": [
      "            0         1\n",
      "0    1.000000  0.000000\n",
      "1    1.000000  0.000000\n",
      "2    1.000000  0.000000\n",
      "3    1.000000  0.000000\n",
      "4    1.000000  0.000000\n",
      "5    1.000000  0.000000\n",
      "6    1.000000  0.000000\n",
      "7    0.458303  0.541697\n",
      "8    1.000000  0.000000\n",
      "9    0.468478  0.531522\n",
      "10   1.000000  0.000000\n",
      "11   1.000000  0.000000\n",
      "12   0.468478  0.531522\n",
      "13   1.000000  0.000000\n",
      "14   0.478747  0.521253\n",
      "15   0.984420  0.015580\n",
      "16   0.458303  0.541697\n",
      "17   0.458303  0.541697\n",
      "18   1.000000  0.000000\n",
      "19   0.865833  0.134167\n",
      "20   0.448220  0.551780\n",
      "21   1.000000  0.000000\n",
      "22   0.458303  0.541697\n",
      "23   1.000000  0.000000\n",
      "24   1.000000  0.000000\n",
      "25   1.000000  0.000000\n",
      "26   0.468478  0.531522\n",
      "27   1.000000  0.000000\n",
      "28   0.969015  0.030985\n",
      "29   1.000000  0.000000\n",
      "..        ...       ...\n",
      "148  0.458303  0.541697\n",
      "149  0.984420  0.015580\n",
      "150  1.000000  0.000000\n",
      "151  1.000000  0.000000\n",
      "152  1.000000  0.000000\n",
      "153  1.000000  0.000000\n",
      "154  0.969015  0.030985\n",
      "155  0.984420  0.015580\n",
      "156  1.000000  0.000000\n",
      "157  1.000000  0.000000\n",
      "158  0.458303  0.541697\n",
      "159  1.000000  0.000000\n",
      "160  1.000000  0.000000\n",
      "161  1.000000  0.000000\n",
      "162  1.000000  0.000000\n",
      "163  1.000000  0.000000\n",
      "164  1.000000  0.000000\n",
      "165  1.000000  0.000000\n",
      "166  0.468478  0.531522\n",
      "167  0.458303  0.541697\n",
      "168  1.000000  0.000000\n",
      "169  0.531542  0.468458\n",
      "170  0.984420  0.015580\n",
      "171  1.000000  0.000000\n",
      "172  0.510129  0.489871\n",
      "173  1.000000  0.000000\n",
      "174  0.448220  0.551780\n",
      "175  1.000000  0.000000\n",
      "176  1.000000  0.000000\n",
      "177  0.458303  0.541697\n",
      "\n",
      "[178 rows x 2 columns]\n"
     ]
    }
   ],
   "source": [
    "y_pred_proba = rf.predict_proba(x_test)\n",
    "print(pd.DataFrame(y_pred_proba))"
   ]
  },
  {
   "cell_type": "code",
   "execution_count": 171,
   "metadata": {
    "ExecuteTime": {
     "end_time": "2019-05-11T07:22:16.539522Z",
     "start_time": "2019-05-11T07:22:16.246569Z"
    },
    "collapsed": true
   },
   "outputs": [
    {
     "data": {
      "image/png": "[encoded data removed]",
      "text/plain": [
       "<matplotlib.figure.Figure at 0x1e03fd2f278>"
      ]
     },
     "metadata": {
      "needs_background": "light"
     },
     "output_type": "display_data"
    }
   ],
   "source": [
    "from sklearn.metrics import roc_curve, auc\n",
    "from matplotlib import pyplot as plt\n",
    "fpr, tpr, thresholds = roc_curve(y_test, [n[1] for n in y_pred_proba])\n",
    "roc_auc = auc(fpr, tpr) \n",
    "\n",
    "## 绘制roc曲线图\n",
    "plt.subplots(figsize=(7,5.5));\n",
    "plt.plot(fpr, tpr, color='darkorange',\n",
    "         lw=2, label='ROC curve (area = %0.2f)' % roc_auc);\n",
    "plt.plot([0, 1], [0, 1], color='navy', lw=2, linestyle='--');\n",
    "plt.xlim([0.0, 1.0]);\n",
    "plt.ylim([0.0, 1.02]);\n",
    "plt.xlabel('False Positive Rate');\n",
    "plt.ylabel('True Positive Rate');\n",
    "plt.title('ROC Curve');\n",
    "plt.legend(loc=\"lower right\");\n",
    "plt.show()"
   ]
  },
  {
   "cell_type": "code",
   "execution_count": 157,
   "metadata": {
    "ExecuteTime": {
     "end_time": "2019-05-11T07:17:28.091537Z",
     "start_time": "2019-05-11T07:17:28.059534Z"
    }
   },
   "outputs": [
    {
     "name": "stdout",
     "output_type": "stream",
     "text": [
      "0.797752808988764\n"
     ]
    }
   ],
   "source": [
    "from sklearn.ensemble import RandomForestClassifier\n",
    "rf = RandomForestClassifier()\n",
    "rf.fit(x_train,y_train)\n",
    "y_pred = rf.predict(x_test)\n",
    "#y_pred =  y_pred[:,1]\n",
    "y_pred = y_pred.tolist()\n",
    "accuracy = len([n for n in range(len(y_pred)) if y_pred[n]==y_test.iloc[n]])/len(y_pred)\n",
    "print(accuracy)"
   ]
  }
 ],
 "metadata": {
  "kernelspec": {
   "display_name": "Python 3",
   "language": "python",
   "name": "python3"
  },
  "language_info": {
   "codemirror_mode": {
    "name": "ipython",
    "version": 3
   },
   "file_extension": ".py",
   "mimetype": "text/x-python",
   "name": "python",
   "nbconvert_exporter": "python",
   "pygments_lexer": "ipython3",
   "version": "3.6.4"
  },
  "varInspector": {
   "cols": {
    "lenName": 16,
    "lenType": 16,
    "lenVar": 40
   },
   "kernels_config": {
    "python": {
     "delete_cmd_postfix": "",
     "delete_cmd_prefix": "del ",
     "library": "var_list.py",
     "varRefreshCmd": "print(var_dic_list())"
    },
    "r": {
     "delete_cmd_postfix": ") ",
     "delete_cmd_prefix": "rm(",
     "library": "var_list.r",
     "varRefreshCmd": "cat(var_dic_list()) "
    }
   },
   "oldHeight": 233,
   "position": {
    "height": "255px",
    "left": "946px",
    "right": "20px",
    "top": "140px",
    "width": "350px"
   },
   "types_to_exclude": [
    "module",
    "function",
    "builtin_function_or_method",
    "instance",
    "_Feature"
   ],
   "varInspector_section_display": "block",
   "window_display": false
  }
 },
 "nbformat": 4,
 "nbformat_minor": 2
}
